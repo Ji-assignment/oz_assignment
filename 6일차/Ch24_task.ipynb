{
 "cells": [
  {
   "cell_type": "markdown",
   "metadata": {},
   "source": [
    "사용자의 이름, 나이, 성별을 출력하는 함수 print_info를 작성하세요. 이 때, 모든 매개변수는 키워드 매개변수로만 받도록 하세요."
   ]
  },
  {
   "cell_type": "code",
   "execution_count": 1,
   "metadata": {},
   "outputs": [
    {
     "name": "stdout",
     "output_type": "stream",
     "text": [
      "사용자의 이름은 익명입니다.\n",
      "사용자의 나이는 알 수 없음입니다.\n",
      "사용자의 성별은 알 수 없음입니다.\n"
     ]
    }
   ],
   "source": [
    "def print_info(*, name=\"익명\", age=\"알 수 없음\", gander=\"알 수 없음\"):\n",
    "    print(f\"사용자의 이름은 {name}입니다.\")\n",
    "    print(f\"사용자의 나이는 {age}입니다.\")\n",
    "    print(f\"사용자의 성별은 {gander}입니다.\")\n",
    "\n",
    "print_info ()"
   ]
  }
 ],
 "metadata": {
  "kernelspec": {
   "display_name": "Python 3",
   "language": "python",
   "name": "python3"
  },
  "language_info": {
   "codemirror_mode": {
    "name": "ipython",
    "version": 3
   },
   "file_extension": ".py",
   "mimetype": "text/x-python",
   "name": "python",
   "nbconvert_exporter": "python",
   "pygments_lexer": "ipython3",
   "version": "3.12.4"
  }
 },
 "nbformat": 4,
 "nbformat_minor": 2
}
